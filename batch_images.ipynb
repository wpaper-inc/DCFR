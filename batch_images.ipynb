{
 "cells": [
  {
   "cell_type": "markdown",
   "metadata": {},
   "source": [
    "## タレント一覧ページから人物の情報を取得"
   ]
  },
  {
   "cell_type": "code",
   "execution_count": 1,
   "metadata": {},
   "outputs": [],
   "source": [
    "import requests\n",
    "from bs4 import BeautifulSoup\n",
    "\n",
    "# タレント一覧を掲載しているページを取得\n",
    "url = \"http://geinoupro.com/profil.html\"\n",
    "res = requests.get(url)\n",
    "soup = BeautifulSoup(res.content, 'html.parser')"
   ]
  },
  {
   "cell_type": "code",
   "execution_count": 2,
   "metadata": {},
   "outputs": [],
   "source": [
    "import re\n",
    "import datetime\n",
    "from datetime import date\n",
    "\n",
    "# 生年月日から年齢を計算\n",
    "def calculate_age(date):\n",
    "    today = date.today()\n",
    "    age = today.year - date.year\n",
    "\n",
    "    # 今年の誕生日を迎えていなければ、ageを1つ減らす\n",
    "    # 今日を表すタプル(7, 29) < 誕生日を表すタプル(7, 30)\n",
    "    if (today.month, today.day) < (date.month, date.day):\n",
    "        age -= 1\n",
    "    return age\n",
    "\n",
    "# ページからタレント情報を取り出す\n",
    "talent_elements = soup.select(\"#main-contents ul.news.m15-b li\")[1:]\n",
    "talents = []\n",
    "for element in talent_elements:\n",
    "    name = element.select('span')[0].text\n",
    "    r = re.compile('(.*)（(.*)）')\n",
    "    m = r.search(name)\n",
    "    name_kanji = m.group(1).replace('　', ' ')\n",
    "    name_kana = m.group(2).replace('・', ' ')\n",
    "    # 生年月日\n",
    "    r = re.compile('【生年月日】(.*)')\n",
    "    m = r.search(element.text)\n",
    "    birthday_string = m.group(1)\n",
    "    birth_date = datetime.datetime.strptime(birthday_string, '%Y/%m/%d').date()\n",
    "    talent = dict(\n",
    "        name_kanji=name_kanji,\n",
    "        name_kana=name_kana,\n",
    "        birth_date=birth_date.strftime('%Y-%m-%d'),\n",
    "        age=calculate_age(birth_date)\n",
    "    )\n",
    "    talents.append(talent)"
   ]
  },
  {
   "cell_type": "markdown",
   "metadata": {},
   "source": [
    "## Bingで画像を検索して、結果画像をダウンロード"
   ]
  },
  {
   "cell_type": "code",
   "execution_count": 13,
   "metadata": {},
   "outputs": [],
   "source": [
    "BING_SEARCH_API_KEY = 'ceaddaf5f4e44ffebfc2dcf639f3f130'\n",
    "\n",
    "def search_image(keyword, count=30):\n",
    "    url = 'https://api.cognitive.microsoft.com/bing/v7.0/images/search'\n",
    "    params = {'q': keyword, 'mkt': 'ja-JP', 'count': count}\n",
    "    headers = {'Ocp-Apim-Subscription-Key': BING_SEARCH_API_KEY}\n",
    "    res = requests.get(url, params=params, headers=headers)\n",
    "    return res.json()['value']"
   ]
  },
  {
   "cell_type": "code",
   "execution_count": 21,
   "metadata": {},
   "outputs": [
    {
     "name": "stdout",
     "output_type": "stream",
     "text": [
      "jpg\n"
     ]
    }
   ],
   "source": []
  },
  {
   "cell_type": "code",
   "execution_count": null,
   "metadata": {},
   "outputs": [],
   "source": [
    "import os\n",
    "import shutil\n",
    "import urllib\n",
    "\n",
    "# 画像ダウンロード関数\n",
    "def save_image(url, name, index):\n",
    "    response = requests.get(url, stream=True)\n",
    "    extension = response.headers['Content-Type'].split('/')[-1]\n",
    "    filename = './images/{}-{}.{}'.format(name, index, extension)\n",
    "    with open(filename, 'wb') as out_file:\n",
    "        shutil.copyfileobj(response.raw, out_file)\n",
    "    del response\n",
    "\n",
    "# 画像保存用のディレクトリを作成\n",
    "if not os.path.exists('./images'):\n",
    "    os.mkdir('./images')\n",
    "\n",
    "# それぞれのタレントに対してBingで検索、画像を保存する\n",
    "for talent in talents:\n",
    "    name_kanji = talent['name_kanji']\n",
    "    results = search_image(name_kanji)\n",
    "    for idx, result in enumerate(results):\n",
    "        image_url = result['contentUrl']\n",
    "        save_image(image_url, name_kanji, idx)"
   ]
  },
  {
   "cell_type": "markdown",
   "metadata": {},
   "source": [
    "## 人物情報をJSONに保存"
   ]
  },
  {
   "cell_type": "code",
   "execution_count": null,
   "metadata": {},
   "outputs": [],
   "source": []
  }
 ],
 "metadata": {
  "kernelspec": {
   "display_name": "Python 3",
   "language": "python",
   "name": "python3"
  },
  "language_info": {
   "codemirror_mode": {
    "name": "ipython",
    "version": 3
   },
   "file_extension": ".py",
   "mimetype": "text/x-python",
   "name": "python",
   "nbconvert_exporter": "python",
   "pygments_lexer": "ipython3",
   "version": "3.6.0"
  }
 },
 "nbformat": 4,
 "nbformat_minor": 2
}
